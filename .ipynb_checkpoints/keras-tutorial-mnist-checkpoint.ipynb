{
 "cells": [
  {
   "cell_type": "markdown",
   "metadata": {},
   "source": [
    "## Learning to Deep Learn using Python, Keras, TensorFlow and a GPU\n",
    "_Jonathon Hare, 21st Jan 2018 (https://github.com/jonhare/LloydsRegistryMachineLearningCourse)_\n",
    "\n",
    "__Change History__\n",
    "* 20170308: Initial version\n",
    "* 20170403: Update to use Keras 2 API\n",
    "* 20180121: Update for LR\n",
    "\n",
    "__Acknowledgements__\n",
    "\n",
    "This part of the course is largely based on Jason Brownlee’s “Handwritten Digit Recognition using Convolutional\n",
    "Neural Networks in Python with Keras” (http://machinelearningmastery.com/handwritten-digit-recognition-using-convolutional-neural-networks-python-keras/) tutorial. A number of changes have been made to ensure that it better fits our format, and I’ve added additional bits and exercises throughout. This version extends on one that I ran for the VLC research group in October 2016 and a revised version for Ordnance Survey in April 2017. \n",
    "\n",
    "__Introduction__\n",
    "\n",
    "A popular demonstration of the capability of deep learning techniques is object recognition in image data. The “hello\n",
    "world” of object recognition for machine learning and deep learning is the MNIST dataset for handwritten digit\n",
    "recognition.\n",
    "\n",
    "In this part of the tutorial you will discover how to develop a deep learning model to achieve near state of the art\n",
    "performance on the MNIST handwritten digit recognition task in Python using the Keras deep learning library.\n",
    "\n",
    "Through this part of the tutorial you’ll learn how to:\n",
    "* How to load the MNIST dataset in Keras.\n",
    "* How to develop and evaluate a baseline neural network model for the MNIST problem.\n",
    "* How to switch the backends used by Keras and run your code on the GPU.\n",
    "* How to implement and evaluate a simple Convolutional Neural Network for MNIST.\n",
    "* How to implement a close to state-of-the-art deep learning model for MNIST.\n",
    "* How to serialise and deserialise trained models.\n",
    "* How to load your own image created outside of the MNIST dataset, and pass it through the network.\n",
    "* How to visualise the filters learned by the network.\n",
    "* How to implement networks with branching and merging.\n",
    "\n",
    "__Prerequisites__\n",
    "\n",
    "To use this tutorial you’ll use the Python 2 language with the keras deep learning library and the tensorflow backend.\n",
    "We’ll also use the scikit-learn and numpy packages.\n",
    "\n",
    "You’ll need access to a computer with the following installed:\n",
    "* Python (> 3.6)\n",
    "* keras (>= 2.0.0)\n",
    "* tensorflow (>= 1.0.0)\n",
    "* NumPy (>= 1.12.1)\n",
    "* SciPy (>= 0.19.1)\n",
    "* scikit-learn (>= 0.19.1)\n",
    "\n",
    "If you’ve installed the base Anaconda python distribution, then running conda install keras will install both keras and\n",
    "tensorflow. You can make a start on this tutorial using you own machines, however you’ll find that the code runs\n",
    "rather slowly. To run at more sensible speeds you need access to a machine with a powerful GPU (or GPUs).\n",
    "\n",
    "### The MNIST Dataset\n",
    "\n",
    "MNIST is a dataset developed by Yann LeCun, Corinna Cortes and Christopher Burges for evaluating machine\n",
    "learning models on the handwritten digit classification problem.\n",
    "\n",
    "The dataset was constructed from a number of scanned document dataset available from the National Institute of\n",
    "Standards and Technology (NIST). This is where the name for the dataset comes from, as the Modified NIST or\n",
    "MNIST dataset.\n",
    "\n",
    "Images of digits were taken from a variety of scanned documents, normalized in size and centred. This makes it an\n",
    "excellent dataset for evaluating models, allowing the developer to focus on the machine learning with very little data\n",
    "cleaning or preparation required.\n",
    "\n",
    "Solutions to this problem are used by banks to automatically recognize the amounts on checks, and by the postal service to automatically recognize zip codes on mail.\n",
    "\n",
    "Each image is a 28 by 28 pixel square (784 pixels total). A standard spit of the dataset is used to evaluate and\n",
    "compare models, where 60,000 images are used to train a model and a separate set of 10,000 images are used to test\n",
    "it.\n",
    "\n",
    "It is a digit recognition task. As such there are 10 digits (0 to 9) or 10 classes to predict. Results are reported using\n",
    "prediction error, which is nothing more than the inverted classification accuracy.\n",
    "\n",
    "Excellent results achieve a prediction error of less than 1%. State-of-the-art prediction error of approximately 0.2%\n",
    "can be achieved with large Convolutional Neural Networks. There is a listing of the state-of-the-art results and links\n",
    "to the relevant papers on the MNIST and other datasets on Rodrigo Benenson’s webpage\n",
    "(http://rodrigob.github.io/are_we_there_yet/build/classification_datasets_results.html#4d4e495354)."
   ]
  },
  {
   "cell_type": "markdown",
   "metadata": {},
   "source": [
    "## Loading the MNIST dataset in Keras\n",
    "The Keras deep learning library provides a convenience method for loading the MNIST dataset.\n",
    "\n",
    "The dataset is downloaded automatically the first time this function is called and is stored in your home directory in\n",
    "~/.keras/datasets/mnist.pkl.gz as a 15MB file.\n",
    "\n",
    "This is very handy for developing and testing deep learning models.\n",
    "\n",
    "To demonstrate how easy it is to load the MNIST dataset, we will first write a little script to download and visualize\n",
    "the first 4 images in the training dataset."
   ]
  },
  {
   "cell_type": "code",
   "execution_count": 4,
   "metadata": {},
   "outputs": [
    {
     "data": {
      "image/png": "[encoded data removed]",
      "text/plain": [
       "<matplotlib.figure.Figure at 0x1f3cc6a9438>"
      ]
     },
     "metadata": {},
     "output_type": "display_data"
    },
    {
     "data": {
      "text/plain": [
       "<matplotlib.figure.Figure at 0x1f3cd0ca278>"
      ]
     },
     "metadata": {},
     "output_type": "display_data"
    }
   ],
   "source": [
    "# Plot ad hoc mnist instances\n",
    "from keras.datasets import mnist\n",
    "import matplotlib\n",
    "import matplotlib.pyplot as plt\n",
    "%matplotlib inline\n",
    "\n",
    "# load (downloaded if needed) the MNIST dataset\n",
    "(X_train, y_train), (X_test, y_test) = mnist.load_data()\n",
    "# plot 4 images as gray scale\n",
    "plt.subplot(221)\n",
    "plt.imshow(X_train[0], cmap=plt.get_cmap('gray'))\n",
    "plt.subplot(222)\n",
    "plt.imshow(X_train[1], cmap=plt.get_cmap('gray'))\n",
    "plt.subplot(223)\n",
    "plt.imshow(X_train[2], cmap=plt.get_cmap('gray'))\n",
    "plt.subplot(224)\n",
    "plt.imshow(X_train[3], cmap=plt.get_cmap('gray'))\n",
    "# show the plot\n",
    "plt.show()\n",
    "plt.savefig(\"filters.png\")"
   ]
  },
  {
   "cell_type": "markdown",
   "metadata": {},
   "source": [
    "## Baseline Multi-Layer Perceptron Model\n",
    "Keras is a general purpose neural network toolbox. Before we start to look at deep convolutional architectures, we can\n",
    "start with something much simpler - a basic multilayer perceptron. Because the MNIST images are relatively small, a\n",
    "fully connected MLP network will have relatively few weights to train; with bigger images, an MLP might not be\n",
    "practical due to the number of weights.\n",
    "\n",
    "In this section we will create a simple multi-layer perceptron model with a single hidden layer that achieves an error\n",
    "rate of 1.74%. We will use this as a baseline for comparing more complex convolutional neural network models later.\n",
    "\n",
    "Let’s start off by importing the classes and functions we will need."
   ]
  },
  {
   "cell_type": "code",
   "execution_count": 5,
   "metadata": {},
   "outputs": [],
   "source": [
    "import numpy as np\n",
    "from keras.datasets import mnist\n",
    "from keras.models import Sequential\n",
    "from keras.layers import Dense\n",
    "from keras.layers import Dropout\n",
    "from keras.utils import np_utils\n",
    "from keras.layers import Flatten\n",
    "from keras.layers.convolutional import Convolution2D\n",
    "from keras.layers.convolutional import MaxPooling2D\n",
    "from keras.utils import np_utils\n",
    "from keras import backend as K\n",
    "\n",
    "import sys\n",
    "from keras.models import load_model\n",
    "from scipy.misc import imread"
   ]
  },
  {
   "cell_type": "markdown",
   "metadata": {},
   "source": [
    "When developing, it is always a good idea to initialize the random number generator to a constant \n",
    "to ensure that the results of your script are reproducible each time you run it."
   ]
  },
  {
   "cell_type": "code",
   "execution_count": 6,
   "metadata": {
    "collapsed": true
   },
   "outputs": [],
   "source": [
    "# fix random seed for reproducibility\n",
    "seed = 7\n",
    "np.random.seed(seed)"
   ]
  },
  {
   "cell_type": "markdown",
   "metadata": {},
   "source": [
    "Now we can load the MNIST dataset using the Keras helper function."
   ]
  },
  {
   "cell_type": "code",
   "execution_count": 7,
   "metadata": {
    "collapsed": true
   },
   "outputs": [],
   "source": [
    "# load data\n",
    "(X_train, y_train), (X_test, y_test) = mnist.load_data()"
   ]
  },
  {
   "cell_type": "markdown",
   "metadata": {},
   "source": [
    "The training dataset is structured as a 3-dimensional array of instance, image width and image height. For a multilayer\n",
    "perceptron model we must reduce the images down into a vector of pixels. In this case the 28×28 sized images\n",
    "will be 784 pixel input values.\n",
    "\n",
    "We can do this transform easily using the reshape() function on the NumPy array. We can also reduce our memory\n",
    "requirements by forcing the precision of the pixel values to be 32 bit, the default precision used by Keras anyway."
   ]
  },
  {
   "cell_type": "code",
   "execution_count": 8,
   "metadata": {},
   "outputs": [
    {
     "name": "stdout",
     "output_type": "stream",
     "text": [
      "784\n"
     ]
    }
   ],
   "source": [
    "# flatten 28*28 images to a 784 vector for each image\n",
    "num_pixels = X_train.shape[1] * X_train.shape[2]\n",
    "print(num_pixels)\n",
    "\n",
    "X_train = X_train.reshape(X_train.shape[0], num_pixels).astype('float32')\n",
    "X_test = X_test.reshape(X_test.shape[0], num_pixels).astype('float32')"
   ]
  },
  {
   "cell_type": "markdown",
   "metadata": {},
   "source": [
    "The pixel values are gray scale between 0 and 255. It is almost always a good idea to perform some scaling of input\n",
    "values when using neural network models. Because the scale is well known and well behaved, we can very quickly\n",
    "normalize the pixel values to the range 0 and 1 by dividing each value by the maximum of 255."
   ]
  },
  {
   "cell_type": "code",
   "execution_count": 9,
   "metadata": {
    "collapsed": true
   },
   "outputs": [],
   "source": [
    "# normalize inputs from 0-255 to 0-1\n",
    "X_train = X_train / 255\n",
    "X_test = X_test / 255"
   ]
  },
  {
   "cell_type": "markdown",
   "metadata": {},
   "source": [
    "Finally, the output variable is an integer from 0 to 9. This is a multi-class classification problem. As such, it is good\n",
    "practice to use a one hot encoding of the class values, transforming the vector of class integers into a binary matrix.\n",
    "\n",
    "We can easily do this using the built-in *np_utils.to_categorical()* helper function in Keras."
   ]
  },
  {
   "cell_type": "code",
   "execution_count": 10,
   "metadata": {},
   "outputs": [
    {
     "name": "stdout",
     "output_type": "stream",
     "text": [
      "10\n"
     ]
    }
   ],
   "source": [
    "# one hot encode outputs\n",
    "y_train = np_utils.to_categorical(y_train)\n",
    "y_test = np_utils.to_categorical(y_test)\n",
    "num_classes = y_test.shape[1]\n",
    "print(num_classes)"
   ]
  },
  {
   "cell_type": "markdown",
   "metadata": {},
   "source": [
    "We are now ready to create our simple neural network model. We will define our model in a function. This is handy if\n",
    "you want to extend the example later and try and get a better score."
   ]
  },
  {
   "cell_type": "code",
   "execution_count": 11,
   "metadata": {
    "collapsed": true
   },
   "outputs": [],
   "source": [
    "# define baseline model\n",
    "def baseline_model():\n",
    "    # create model\n",
    "    model = Sequential()\n",
    "    model.add(Dense(num_pixels, input_dim=num_pixels, kernel_initializer='normal', activation='relu'))\n",
    "    model.add(Dense(num_classes, kernel_initializer='normal', activation='softmax'))\n",
    "    # Compile model\n",
    "    model.compile(loss='categorical_crossentropy', optimizer='adam', metrics=['accuracy'])\n",
    "    return model"
   ]
  },
  {
   "cell_type": "markdown",
   "metadata": {},
   "source": [
    "The model is a simple neural network with one hidden layer with the same number of neurons as there are inputs\n",
    "(784). A rectifier activation function is used for the neurons in the hidden layer.\n",
    "\n",
    "A softmax activation function is used on the output layer to turn the outputs into probability-like values and allow\n",
    "one class of the 10 to be selected as the model’s output prediction. Logarithmic loss is used as the loss function\n",
    "(called categorical_crossentropy in Keras) and the efficient ADAM gradient descent algorithm is used to learn the\n",
    "weights.\n",
    "\n",
    "We can now fit and evaluate the model. The model is fit over 10 epochs with updates every 200 images. The test data\n",
    "is used as the validation dataset, allowing you to see the skill of the model as it trains. A verbose value of 2 is used to\n",
    "reduce the output to one line for each training epoch.\n",
    "\n",
    "Finally, the test dataset is used to evaluate the model and a classification error rate is printed."
   ]
  },
  {
   "cell_type": "code",
   "execution_count": 12,
   "metadata": {},
   "outputs": [
    {
     "name": "stdout",
     "output_type": "stream",
     "text": [
      "WARNING:tensorflow:From C:\\Miniconda3\\envs\\tensorflow\\lib\\site-packages\\keras\\backend\\tensorflow_backend.py:2745: calling reduce_sum (from tensorflow.python.ops.math_ops) with keep_dims is deprecated and will be removed in a future version.\n",
      "Instructions for updating:\n",
      "keep_dims is deprecated, use keepdims instead\n",
      "WARNING:tensorflow:From C:\\Miniconda3\\envs\\tensorflow\\lib\\site-packages\\keras\\backend\\tensorflow_backend.py:1299: calling reduce_mean (from tensorflow.python.ops.math_ops) with keep_dims is deprecated and will be removed in a future version.\n",
      "Instructions for updating:\n",
      "keep_dims is deprecated, use keepdims instead\n",
      "Train on 60000 samples, validate on 10000 samples\n",
      "Epoch 1/10\n",
      "3s - loss: 0.2809 - acc: 0.9205 - val_loss: 0.1416 - val_acc: 0.9568\n",
      "Epoch 2/10\n",
      "1s - loss: 0.1117 - acc: 0.9676 - val_loss: 0.0920 - val_acc: 0.9712\n",
      "Epoch 3/10\n",
      "1s - loss: 0.0716 - acc: 0.9797 - val_loss: 0.0784 - val_acc: 0.9772\n",
      "Epoch 4/10\n",
      "1s - loss: 0.0503 - acc: 0.9855 - val_loss: 0.0738 - val_acc: 0.9770\n",
      "Epoch 5/10\n",
      "1s - loss: 0.0374 - acc: 0.9893 - val_loss: 0.0690 - val_acc: 0.9785\n",
      "Epoch 6/10\n",
      "1s - loss: 0.0269 - acc: 0.9927 - val_loss: 0.0637 - val_acc: 0.9800\n",
      "Epoch 7/10\n",
      "1s - loss: 0.0207 - acc: 0.9946 - val_loss: 0.0639 - val_acc: 0.9800\n",
      "Epoch 8/10\n",
      "1s - loss: 0.0142 - acc: 0.9969 - val_loss: 0.0623 - val_acc: 0.9796\n",
      "Epoch 9/10\n",
      "1s - loss: 0.0109 - acc: 0.9978 - val_loss: 0.0576 - val_acc: 0.9820\n",
      "Epoch 10/10\n",
      "1s - loss: 0.0081 - acc: 0.9984 - val_loss: 0.0591 - val_acc: 0.9813\n",
      "Baseline Error: 1.87%\n"
     ]
    }
   ],
   "source": [
    "# build the model\n",
    "model = baseline_model()\n",
    "# Fit the model\n",
    "model.fit(X_train, y_train, validation_data=(X_test, y_test), epochs=10, batch_size=200, verbose=2)\n",
    "# Final evaluation of the model\n",
    "scores = model.evaluate(X_test, y_test, verbose=0)\n",
    "print(\"Baseline Error: %.2f%%\" % (100-scores[1]*100))"
   ]
  },
  {
   "cell_type": "markdown",
   "metadata": {},
   "source": [
    "Running the example might take a few minutes when run on a CPU (probably around 9s per epoch, but might be\n",
    "slower if you’re sharing the machine with others). However, by default when using the Tensorflow backend the GPU\n",
    "will be used if it’s available, and each epoch will be a lot faster:"
   ]
  },
  {
   "cell_type": "markdown",
   "metadata": {},
   "source": [
    "If you want to try forcing the code to run on the CPU to see how slow it will be you can set the\n",
    "CUDA_VISIBLE_DEVICES environment variable to an empty string using export CUDA_VISIBLE_DEVICES=, or set it\n",
    "temporarily whilst you run the code: CUDA_VISIBLE_DEVICES= python keras-mnist-mlp.py."
   ]
  },
  {
   "cell_type": "markdown",
   "metadata": {},
   "source": [
    "## Simple Convolutional Neural Network for MNIST\n",
    "Now that we have seen how to load the MNIST dataset and train a simple multi-layer perceptron model on it, we can\n",
    "now start to develop a more sophisticated convolutional neural network or CNN model.\n",
    "\n",
    "Keras provides a lot of capability for creating CNNs, and includes a large number of layer types and activation\n",
    "functions.\n",
    "\n",
    "In this section we will create a simple CNN for MNIST that demonstrates how to use all of the aspects of a modern\n",
    "CNN implementation, including Convolutional layers, Pooling layers and Dropout layers.\n",
    "\n",
    "The first step is to import the classes and functions needed."
   ]
  },
  {
   "cell_type": "code",
   "execution_count": 14,
   "metadata": {},
   "outputs": [],
   "source": [
    "# fix random seed for reproducibility\n",
    "seed = 7\n",
    "np.random.seed(seed)"
   ]
  },
  {
   "cell_type": "markdown",
   "metadata": {},
   "source": [
    "Next we need to load the MNIST dataset and reshape it so that it is suitable for use training a CNN. In Keras, the\n",
    "layers used for two-dimensional convolutions expect pixel values with the dimensions [width][height][pixels].\n",
    "\n",
    "In the case of RGB, the third dimension, pixels, would be 3 for the red, green and blue components and it would be\n",
    "like having 3 image inputs for every colour image. In the case of MNIST where the pixel values are greyscale, the\n",
    "pixel dimension is set to 1."
   ]
  },
  {
   "cell_type": "code",
   "execution_count": 15,
   "metadata": {
    "collapsed": true
   },
   "outputs": [],
   "source": [
    "#load data\n",
    "(X_train, y_train), (X_test, y_test) = mnist.load_data()\n",
    "# reshape to be [samples][pixels][width][height]\n",
    "X_train = X_train.reshape(X_train.shape[0], 28, 28, 1).astype('float32')\n",
    "X_test = X_test.reshape(X_test.shape[0], 28, 28, 1).astype('float32')\n",
    "\n",
    "'''As before, it is a good idea to normalize the pixel values to the range 0 and 1 and one-hot encode the output\n",
    "variables.'''\n",
    "\n",
    "# normalize inputs from 0-255 to 0-1\n",
    "X_train = X_train / 255\n",
    "X_test = X_test / 255\n",
    "# one hot encode outputs\n",
    "y_train = np_utils.to_categorical(y_train)\n",
    "y_test = np_utils.to_categorical(y_test)\n",
    "num_classes = y_test.shape[1]"
   ]
  },
  {
   "cell_type": "markdown",
   "metadata": {},
   "source": [
    "Next we define our neural network model.\n",
    "\n",
    "Convolutional neural networks are more complex than standard multi-layer perceptrons, so we will start by using a\n",
    "simple structure to begin with that uses all of the elements for state of the art results. Below summarizes the\n",
    "network architecture.\n",
    "\n",
    "1 The first hidden layer is a convolutional layer called a Convolution2D. The layer has 32 feature maps, which with the\n",
    "size of 5×5 and a rectifier activation function. This is the input layer, expecting images with the structure outline\n",
    "above [width][height][pixels]. 2 Next we define a pooling layer that takes the max called MaxPooling2D. It is\n",
    "configured with a pool size of 2×2. 3 The next layer is a regularization layer using dropout called Dropout. It is\n",
    "configured to randomly exclude 20% of neurons in the layer in order to reduce overfitting. 4 Next is a layer that\n",
    "converts the 2D matrix data to a vector called Flatten. It allows the output to be processed by standard fully \n",
    "connected layers. 5 Next a fully connected layer with 128 neurons and rectifier activation function. 6 Finally, the\n",
    "output layer has 10 neurons for the 10 classes and a softmax activation function to output probability-like predictions\n",
    "for each class.\n",
    "\n",
    "As before, the model is trained using logarithmic loss and the ADAM gradient descent algorithm."
   ]
  },
  {
   "cell_type": "code",
   "execution_count": 16,
   "metadata": {
    "collapsed": true
   },
   "outputs": [],
   "source": [
    "def baseline_model():\n",
    "    # create model\n",
    "    model = Sequential()\n",
    "    model.add(Convolution2D(32, (5, 5), padding='valid', input_shape=(28, 28, 1), activation='relu'))\n",
    "    model.add(MaxPooling2D(pool_size=(2, 2)))\n",
    "    model.add(Dropout(0.2))\n",
    "    model.add(Flatten())\n",
    "    model.add(Dense(128, activation='relu'))\n",
    "    model.add(Dense(num_classes, activation='softmax'))\n",
    "    # Compile model\n",
    "    model.compile(loss='categorical_crossentropy', optimizer='adam', metrics=['accuracy'])\n",
    "    return model"
   ]
  },
  {
   "cell_type": "markdown",
   "metadata": {},
   "source": [
    "We evaluate the model the same way as before with the multi-layer perceptron. The CNN is fit over 10 epochs with a\n",
    "batch size of 200"
   ]
  },
  {
   "cell_type": "code",
   "execution_count": 17,
   "metadata": {},
   "outputs": [
    {
     "name": "stdout",
     "output_type": "stream",
     "text": [
      "WARNING:tensorflow:From C:\\Miniconda3\\envs\\tensorflow\\lib\\site-packages\\keras\\backend\\tensorflow_backend.py:1210: calling reduce_prod (from tensorflow.python.ops.math_ops) with keep_dims is deprecated and will be removed in a future version.\n",
      "Instructions for updating:\n",
      "keep_dims is deprecated, use keepdims instead\n",
      "Train on 60000 samples, validate on 10000 samples\n",
      "Epoch 1/10\n",
      "3s - loss: 0.2261 - acc: 0.9355 - val_loss: 0.0742 - val_acc: 0.9769\n",
      "Epoch 2/10\n",
      "2s - loss: 0.0708 - acc: 0.9786 - val_loss: 0.0471 - val_acc: 0.9841\n",
      "Epoch 3/10\n",
      "2s - loss: 0.0505 - acc: 0.9846 - val_loss: 0.0418 - val_acc: 0.9868\n",
      "Epoch 4/10\n",
      "2s - loss: 0.0398 - acc: 0.9872 - val_loss: 0.0399 - val_acc: 0.9873\n",
      "Epoch 5/10\n",
      "2s - loss: 0.0318 - acc: 0.9902 - val_loss: 0.0351 - val_acc: 0.9892\n",
      "Epoch 6/10\n",
      "2s - loss: 0.0258 - acc: 0.9919 - val_loss: 0.0334 - val_acc: 0.9899\n",
      "Epoch 7/10\n",
      "2s - loss: 0.0218 - acc: 0.9931 - val_loss: 0.0339 - val_acc: 0.9896\n",
      "Epoch 8/10\n",
      "2s - loss: 0.0190 - acc: 0.9940 - val_loss: 0.0323 - val_acc: 0.9890\n",
      "Epoch 9/10\n",
      "2s - loss: 0.0158 - acc: 0.9951 - val_loss: 0.0309 - val_acc: 0.9899\n",
      "Epoch 10/10\n",
      "2s - loss: 0.0129 - acc: 0.9958 - val_loss: 0.0299 - val_acc: 0.9905\n",
      "Baseline Error: 0.95%\n"
     ]
    }
   ],
   "source": [
    "# build the model\n",
    "model = baseline_model()\n",
    "# Fit the model\n",
    "model.fit(X_train, y_train, validation_data=(X_test, y_test), epochs=10, batch_size=200, verbose=2)\n",
    "# Final evaluation of the model\n",
    "scores = model.evaluate(X_test, y_test, verbose=0)\n",
    "print(\"Baseline Error: %.2f%%\" % (100-scores[1]*100))"
   ]
  },
  {
   "cell_type": "markdown",
   "metadata": {},
   "source": [
    "Running the example, the accuracy on the training and validation test is printed each epoch and at the end of the\n",
    "classification error rate is printed.\n",
    "\n",
    "Epochs may take a second or so on the Titan X, although will take a fair bit longer on the CPU (perhaps ~46s per\n",
    "epoch). You can see that the network achieves an error rate of 1.06, which is better than the simple multi-layer\n",
    "perceptron model above."
   ]
  },
  {
   "cell_type": "markdown",
   "metadata": {},
   "source": [
    "## Larger Convolutional Neural Network for MNIST\n",
    "Now that we have seen how to create a simple CNN, let’s take a look at a model capable of close to state of the art\n",
    "results.\n",
    "\n",
    "We import classes and function then load and prepare the data the same as in the previous CNN example.\n"
   ]
  },
  {
   "cell_type": "code",
   "execution_count": 18,
   "metadata": {
    "collapsed": true
   },
   "outputs": [],
   "source": [
    "# fix random seed for reproducibility\n",
    "seed = 7\n",
    "np.random.seed(seed)\n",
    "# load data\n",
    "(X_train, y_train), (X_test, y_test) = mnist.load_data()\n",
    "# reshape to be [samples][pixels][width][height]\n",
    "X_train = X_train.reshape(X_train.shape[0], 28, 28, 1).astype('float32')\n",
    "X_test = X_test.reshape(X_test.shape[0], 28, 28, 1).astype('float32')\n",
    "# normalize inputs from 0-255 to 0-1\n",
    "X_train = X_train / 255\n",
    "X_test = X_test / 255\n",
    "# one hot encode outputs\n",
    "y_train = np_utils.to_categorical(y_train)\n",
    "y_test = np_utils.to_categorical(y_test)\n",
    "num_classes = y_test.shape[1]"
   ]
  },
  {
   "cell_type": "markdown",
   "metadata": {},
   "source": [
    "This time we define a large CNN architecture with additional convolutional, max pooling layers and fully connected\n",
    "layers. The network topology can be summarized as follows.\n",
    "\n",
    "1 Convolutional layer with 30 feature maps of size 5×5. 2 Pooling layer taking the max over 22 patches. 3\n",
    "Convolutional layer with 15 feature maps of size 3×3. 4 Pooling layer taking the max over 22 patches. 5 Dropout layer\n",
    "with a probability of 20%. 6 Flatten layer. 7 Fully connected layer with 128 neurons and rectifier activation. 8 Fully\n",
    "connected layer with 50 neurons and rectifier activation. 9 Output layer."
   ]
  },
  {
   "cell_type": "code",
   "execution_count": 19,
   "metadata": {
    "collapsed": true
   },
   "outputs": [],
   "source": [
    "def larger_model():\n",
    "    # create model\n",
    "    model = Sequential()\n",
    "    model.add(Convolution2D(30, (5, 5), padding='valid', input_shape=(28, 28, 1), activation='relu'))\n",
    "    model.add(MaxPooling2D(pool_size=(2, 2)))\n",
    "    model.add(Convolution2D(15, (3, 3), activation='relu'))\n",
    "    model.add(MaxPooling2D(pool_size=(2, 2)))\n",
    "    model.add(Dropout(0.2))\n",
    "    model.add(Flatten())\n",
    "    model.add(Dense(128, activation='relu'))\n",
    "    model.add(Dense(50, activation='relu'))\n",
    "    model.add(Dense(num_classes, activation='softmax'))\n",
    "    # Compile model\n",
    "    model.compile(loss='categorical_crossentropy', optimizer='adam', metrics=['accuracy'])\n",
    "    return model"
   ]
  },
  {
   "cell_type": "code",
   "execution_count": 20,
   "metadata": {},
   "outputs": [
    {
     "name": "stdout",
     "output_type": "stream",
     "text": [
      "Train on 60000 samples, validate on 10000 samples\n",
      "Epoch 1/10\n",
      "2s - loss: 0.3844 - acc: 0.8829 - val_loss: 0.0813 - val_acc: 0.9753\n",
      "Epoch 2/10\n",
      "2s - loss: 0.1003 - acc: 0.9687 - val_loss: 0.0605 - val_acc: 0.9792\n",
      "Epoch 3/10\n",
      "2s - loss: 0.0723 - acc: 0.9778 - val_loss: 0.0404 - val_acc: 0.9864\n",
      "Epoch 4/10\n",
      "2s - loss: 0.0589 - acc: 0.9817 - val_loss: 0.0367 - val_acc: 0.9879\n",
      "Epoch 5/10\n",
      "2s - loss: 0.0492 - acc: 0.9845 - val_loss: 0.0351 - val_acc: 0.9894\n",
      "Epoch 6/10\n",
      "2s - loss: 0.0435 - acc: 0.9864 - val_loss: 0.0277 - val_acc: 0.9909\n",
      "Epoch 7/10\n",
      "2s - loss: 0.0379 - acc: 0.9884 - val_loss: 0.0317 - val_acc: 0.9891\n",
      "Epoch 8/10\n",
      "2s - loss: 0.0358 - acc: 0.9880 - val_loss: 0.0276 - val_acc: 0.9905\n",
      "Epoch 9/10\n",
      "2s - loss: 0.0305 - acc: 0.9901 - val_loss: 0.0242 - val_acc: 0.9923\n",
      "Epoch 10/10\n",
      "2s - loss: 0.0305 - acc: 0.9901 - val_loss: 0.0259 - val_acc: 0.9916\n",
      "Baseline Error: 0.84%\n"
     ]
    }
   ],
   "source": [
    "# build the model\n",
    "model = larger_model()\n",
    "# Fit the model\n",
    "model.fit(X_train, y_train, validation_data=(X_test, y_test), epochs=10, batch_size=200, verbose=2)\n",
    "# Final evaluation of the model\n",
    "scores = model.evaluate(X_test, y_test, verbose=0)\n",
    "print(\"Baseline Error: %.2f%%\" % (100-scores[1]*100))\n",
    "\n",
    "#save model\n",
    "model.save('bettercnn.h5')"
   ]
  },
  {
   "cell_type": "markdown",
   "metadata": {},
   "source": [
    "Running the example prints accuracy on the training and validation datasets each epoch and a final classification\n",
    "error rate.\n",
    "\n",
    "The model takes about a couple of seconds to run per epoch on a Titan X GPU (CPU run times are around 60s/epoch).\n",
    "This slightly larger model achieves the respectable classification error rate of 0.84%."
   ]
  },
  {
   "cell_type": "markdown",
   "metadata": {},
   "source": [
    "## Saving models\n",
    "Being able to train a model is fine, but in practice once we’ve trained the model we probably want to save the result\n",
    "so we can reuse it at a later time. Keras makes saving the model into an HDF5 format file easy using model.save(filepath).\n",
    "This will save the architecture of the model, the weights of the model, the training configuration (loss, optimizer)\n",
    "and the state of the optimizer, allowing to resume training exactly where you left off should you wish to continue\n",
    "training with more epochs.\n",
    "\n",
    "    Exercise: Can you modify the code for the previous CNN architecture to save the trained result\n",
    "    into a file called bettercnn.h5?"
   ]
  },
  {
   "cell_type": "markdown",
   "metadata": {},
   "source": [
    "## Reading models and propagating input\n",
    "At this point, we know how to train a model and how to save the result. Lets assume we’re in the business of building\n",
    "a real system for handwritten character recognition; we need to be able to read in a previously trained model and\n",
    "forward propagate an image from outside the MNIST dataset through it in order to generate a prediction. Let’s build\n",
    "some code to do just that:"
   ]
  },
  {
   "cell_type": "code",
   "execution_count": 21,
   "metadata": {},
   "outputs": [
    {
     "name": "stdout",
     "output_type": "stream",
     "text": [
      "1/1 [==============================] - 0s\n",
      "predicted digit: 2\n"
     ]
    },
    {
     "data": {
      "text/plain": [
       "<matplotlib.image.AxesImage at 0x1f3cfa66cf8>"
      ]
     },
     "execution_count": 21,
     "metadata": {},
     "output_type": "execute_result"
    },
    {
     "data": {
      "image/png": "[encoded data removed]",
      "text/plain": [
       "<matplotlib.figure.Figure at 0x1f3cf986be0>"
      ]
     },
     "metadata": {},
     "output_type": "display_data"
    }
   ],
   "source": [
    "img = 'images\\\\2.PNG'\n",
    "\n",
    "# load a model\n",
    "model = load_model('bettercnn.h5')\n",
    "# load an image\n",
    "image1 = imread(img).astype(float)\n",
    "# normalise it in the same manner as we did for the training data\n",
    "image = image1 / 255.0\n",
    "#reshape\n",
    "image = image.reshape(1,28,28,1)\n",
    "# forward propagate and print index of most likely class\n",
    "# (for MNIST this corresponds one-to-one with the digit)\n",
    "print(\"predicted digit: \"+str(model.predict_classes(image)[0]))\n",
    "plt.imshow(image1, cmap=plt.get_cmap('gray'))"
   ]
  },
  {
   "cell_type": "markdown",
   "metadata": {},
   "source": [
    "_Exercise:_ Try with some other images and see what results you get. You can replace the 1 in the\n",
    "    img string above with anything between 0 and 9 to download some different digits, or create your\n",
    "    own 24x24 pixel images.\n",
    "    \n",
    "_Exercise:_ Rather than just outputting the most likely class, modify the code to print the weight\n",
    "    distribution over the output layer using the model.predict() method instead of model.predict_classes()."
   ]
  },
  {
   "cell_type": "markdown",
   "metadata": {},
   "source": [
    "## Visualising the first layers filters and responses\n",
    "In our previous convolutional network, the first layer was a Convolutional layer. Because this convolutional layer is\n",
    "applied directly to the greylevel input MNIST images the filters that are learned can themselves just be considered to\n",
    "be small (5x5 in this case) greylevel images. We can extract the weights of these filters directly from the trained\n",
    "network and visualise them using _matplotlib_ like this:"
   ]
  },
  {
   "cell_type": "code",
   "execution_count": 22,
   "metadata": {},
   "outputs": [
    {
     "data": {
      "image/png": "[encoded data removed]",
      "text/plain": [
       "<matplotlib.figure.Figure at 0x1f3e3c9bda0>"
      ]
     },
     "metadata": {},
     "output_type": "display_data"
    }
   ],
   "source": [
    "# load a model\n",
    "model = load_model('bettercnn.h5')\n",
    "weights = model.layers[0].get_weights()[0]\n",
    "# plot the first layer features\n",
    "for i in range(0,30):\n",
    "    plt.subplot(5,6,i+1)\n",
    "    plt.imshow(weights[:,:,0,i], cmap=plt.get_cmap('gray'))\n",
    "    plt.savefig(\"images\\\\filters.png\")"
   ]
  },
  {
   "cell_type": "markdown",
   "metadata": {},
   "source": [
    "Note that the ordering of convolution filters in Tensorflow is [width][height][pixels][depth].\n",
    "\n",
    "    Exercise: Run the above code and see what the filters look like.\n",
    "    \n",
    "If we forward propagate an input through the network we can also visualise the response maps generated by the\n",
    "filters. The advantage of this kind of visualisation is that we can compute it at any layer, not just the first one. In\n",
    "order to do this in Keras, we must define a Keras function that will use the backend to propagate the given input\n",
    "through the network to the required point. The following code shows how this can be achieved to generate the\n",
    "response maps of the second convolutional layer of our network:"
   ]
  },
  {
   "cell_type": "code",
   "execution_count": 24,
   "metadata": {},
   "outputs": [
    {
     "name": "stdout",
     "output_type": "stream",
     "text": [
      "(1, 10, 10, 15)\n"
     ]
    },
    {
     "data": {
      "image/png": "[encoded data removed]",
      "text/plain": [
       "<matplotlib.figure.Figure at 0x1f3e6e4a898>"
      ]
     },
     "metadata": {},
     "output_type": "display_data"
    }
   ],
   "source": [
    "# load a model\n",
    "model = load_model('bettercnn.h5')\n",
    "# load an image\n",
    "image = imread(\"images\\\\1.PNG\").astype(float)\n",
    "# normalise it in the same manner as we did for the training data\n",
    "image = image / 255.0\n",
    "# reshape\n",
    "image = image.reshape(1,28,28,1)\n",
    "# define a keras function to extract the 3rd layer response maps\n",
    "get_3rd_layer_output = K.function([model.layers[0].input],\n",
    "[model.layers[2].output])\n",
    "layer_output = get_3rd_layer_output([image])[0]\n",
    "# plot the results\n",
    "print(layer_output.shape)\n",
    "for i in range(0,15):\n",
    "    plt.subplot(4,4,i+1)\n",
    "    plt.imshow(layer_output[0,:,:,i], cmap=plt.get_cmap('gray'))\n",
    "    plt.savefig(\"images\\\\filters1.png\")"
   ]
  },
  {
   "cell_type": "markdown",
   "metadata": {},
   "source": [
    "    Exercise: Run the above code and see how the response maps differ for different input images.\n",
    "A final way of visualising what the filters (at any depth) are learning is to find the input image that maximises the\n",
    "response of the filter. We can do this by starting with a random image and using gradient ascent to optimise the\n",
    "image to maximise the chosen filter. The following code snippet shows how this can be achieved, based on this\n",
    "article in the Keras blog (https://blog.keras.io/how-convolutional-neural-networks-see-the-world.html) :"
   ]
  },
  {
   "cell_type": "code",
   "execution_count": 26,
   "metadata": {},
   "outputs": [
    {
     "ename": "FileNotFoundError",
     "evalue": "[Errno 2] No such file or directory: 'image\\\\maxact.png'",
     "output_type": "error",
     "traceback": [
      "\u001b[1;31m---------------------------------------------------------------------------\u001b[0m",
      "\u001b[1;31mFileNotFoundError\u001b[0m                         Traceback (most recent call last)",
      "\u001b[1;32m<ipython-input-26-170942f2ed0a>\u001b[0m in \u001b[0;36m<module>\u001b[1;34m()\u001b[0m\n\u001b[0;32m     31\u001b[0m     \u001b[0mplt\u001b[0m\u001b[1;33m.\u001b[0m\u001b[0mimshow\u001b[0m\u001b[1;33m(\u001b[0m\u001b[0minput_img_data\u001b[0m\u001b[1;33m[\u001b[0m\u001b[1;36m0\u001b[0m\u001b[1;33m,\u001b[0m\u001b[1;33m:\u001b[0m\u001b[1;33m,\u001b[0m\u001b[1;33m:\u001b[0m\u001b[1;33m,\u001b[0m\u001b[1;36m0\u001b[0m\u001b[1;33m]\u001b[0m\u001b[1;33m,\u001b[0m \u001b[0mcmap\u001b[0m\u001b[1;33m=\u001b[0m\u001b[0mplt\u001b[0m\u001b[1;33m.\u001b[0m\u001b[0mget_cmap\u001b[0m\u001b[1;33m(\u001b[0m\u001b[1;34m'gray'\u001b[0m\u001b[1;33m)\u001b[0m\u001b[1;33m)\u001b[0m\u001b[1;33m\u001b[0m\u001b[0m\n\u001b[0;32m     32\u001b[0m \u001b[1;33m\u001b[0m\u001b[0m\n\u001b[1;32m---> 33\u001b[1;33m \u001b[0mplt\u001b[0m\u001b[1;33m.\u001b[0m\u001b[0msavefig\u001b[0m\u001b[1;33m(\u001b[0m\u001b[1;34m\"image\\\\maxact.png\"\u001b[0m\u001b[1;33m)\u001b[0m\u001b[1;33m\u001b[0m\u001b[0m\n\u001b[0m",
      "\u001b[1;32mC:\\Miniconda3\\envs\\tensorflow\\lib\\site-packages\\matplotlib\\pyplot.py\u001b[0m in \u001b[0;36msavefig\u001b[1;34m(*args, **kwargs)\u001b[0m\n\u001b[0;32m    699\u001b[0m \u001b[1;32mdef\u001b[0m \u001b[0msavefig\u001b[0m\u001b[1;33m(\u001b[0m\u001b[1;33m*\u001b[0m\u001b[0margs\u001b[0m\u001b[1;33m,\u001b[0m \u001b[1;33m**\u001b[0m\u001b[0mkwargs\u001b[0m\u001b[1;33m)\u001b[0m\u001b[1;33m:\u001b[0m\u001b[1;33m\u001b[0m\u001b[0m\n\u001b[0;32m    700\u001b[0m     \u001b[0mfig\u001b[0m \u001b[1;33m=\u001b[0m \u001b[0mgcf\u001b[0m\u001b[1;33m(\u001b[0m\u001b[1;33m)\u001b[0m\u001b[1;33m\u001b[0m\u001b[0m\n\u001b[1;32m--> 701\u001b[1;33m     \u001b[0mres\u001b[0m \u001b[1;33m=\u001b[0m \u001b[0mfig\u001b[0m\u001b[1;33m.\u001b[0m\u001b[0msavefig\u001b[0m\u001b[1;33m(\u001b[0m\u001b[1;33m*\u001b[0m\u001b[0margs\u001b[0m\u001b[1;33m,\u001b[0m \u001b[1;33m**\u001b[0m\u001b[0mkwargs\u001b[0m\u001b[1;33m)\u001b[0m\u001b[1;33m\u001b[0m\u001b[0m\n\u001b[0m\u001b[0;32m    702\u001b[0m     \u001b[0mfig\u001b[0m\u001b[1;33m.\u001b[0m\u001b[0mcanvas\u001b[0m\u001b[1;33m.\u001b[0m\u001b[0mdraw_idle\u001b[0m\u001b[1;33m(\u001b[0m\u001b[1;33m)\u001b[0m   \u001b[1;31m# need this if 'transparent=True' to reset colors\u001b[0m\u001b[1;33m\u001b[0m\u001b[0m\n\u001b[0;32m    703\u001b[0m     \u001b[1;32mreturn\u001b[0m \u001b[0mres\u001b[0m\u001b[1;33m\u001b[0m\u001b[0m\n",
      "\u001b[1;32mC:\\Miniconda3\\envs\\tensorflow\\lib\\site-packages\\matplotlib\\figure.py\u001b[0m in \u001b[0;36msavefig\u001b[1;34m(self, fname, **kwargs)\u001b[0m\n\u001b[0;32m   1832\u001b[0m             \u001b[0mself\u001b[0m\u001b[1;33m.\u001b[0m\u001b[0mset_frameon\u001b[0m\u001b[1;33m(\u001b[0m\u001b[0mframeon\u001b[0m\u001b[1;33m)\u001b[0m\u001b[1;33m\u001b[0m\u001b[0m\n\u001b[0;32m   1833\u001b[0m \u001b[1;33m\u001b[0m\u001b[0m\n\u001b[1;32m-> 1834\u001b[1;33m         \u001b[0mself\u001b[0m\u001b[1;33m.\u001b[0m\u001b[0mcanvas\u001b[0m\u001b[1;33m.\u001b[0m\u001b[0mprint_figure\u001b[0m\u001b[1;33m(\u001b[0m\u001b[0mfname\u001b[0m\u001b[1;33m,\u001b[0m \u001b[1;33m**\u001b[0m\u001b[0mkwargs\u001b[0m\u001b[1;33m)\u001b[0m\u001b[1;33m\u001b[0m\u001b[0m\n\u001b[0m\u001b[0;32m   1835\u001b[0m \u001b[1;33m\u001b[0m\u001b[0m\n\u001b[0;32m   1836\u001b[0m         \u001b[1;32mif\u001b[0m \u001b[0mframeon\u001b[0m\u001b[1;33m:\u001b[0m\u001b[1;33m\u001b[0m\u001b[0m\n",
      "\u001b[1;32mC:\\Miniconda3\\envs\\tensorflow\\lib\\site-packages\\matplotlib\\backend_bases.py\u001b[0m in \u001b[0;36mprint_figure\u001b[1;34m(self, filename, dpi, facecolor, edgecolor, orientation, format, **kwargs)\u001b[0m\n\u001b[0;32m   2265\u001b[0m                 \u001b[0morientation\u001b[0m\u001b[1;33m=\u001b[0m\u001b[0morientation\u001b[0m\u001b[1;33m,\u001b[0m\u001b[1;33m\u001b[0m\u001b[0m\n\u001b[0;32m   2266\u001b[0m                 \u001b[0mbbox_inches_restore\u001b[0m\u001b[1;33m=\u001b[0m\u001b[0m_bbox_inches_restore\u001b[0m\u001b[1;33m,\u001b[0m\u001b[1;33m\u001b[0m\u001b[0m\n\u001b[1;32m-> 2267\u001b[1;33m                 **kwargs)\n\u001b[0m\u001b[0;32m   2268\u001b[0m         \u001b[1;32mfinally\u001b[0m\u001b[1;33m:\u001b[0m\u001b[1;33m\u001b[0m\u001b[0m\n\u001b[0;32m   2269\u001b[0m             \u001b[1;32mif\u001b[0m \u001b[0mbbox_inches\u001b[0m \u001b[1;32mand\u001b[0m \u001b[0mrestore_bbox\u001b[0m\u001b[1;33m:\u001b[0m\u001b[1;33m\u001b[0m\u001b[0m\n",
      "\u001b[1;32mC:\\Miniconda3\\envs\\tensorflow\\lib\\site-packages\\matplotlib\\backends\\backend_agg.py\u001b[0m in \u001b[0;36mprint_png\u001b[1;34m(self, filename_or_obj, *args, **kwargs)\u001b[0m\n\u001b[0;32m    510\u001b[0m         \u001b[0mrenderer\u001b[0m\u001b[1;33m.\u001b[0m\u001b[0mdpi\u001b[0m \u001b[1;33m=\u001b[0m \u001b[0mself\u001b[0m\u001b[1;33m.\u001b[0m\u001b[0mfigure\u001b[0m\u001b[1;33m.\u001b[0m\u001b[0mdpi\u001b[0m\u001b[1;33m\u001b[0m\u001b[0m\n\u001b[0;32m    511\u001b[0m         \u001b[1;32mif\u001b[0m \u001b[0misinstance\u001b[0m\u001b[1;33m(\u001b[0m\u001b[0mfilename_or_obj\u001b[0m\u001b[1;33m,\u001b[0m \u001b[0msix\u001b[0m\u001b[1;33m.\u001b[0m\u001b[0mstring_types\u001b[0m\u001b[1;33m)\u001b[0m\u001b[1;33m:\u001b[0m\u001b[1;33m\u001b[0m\u001b[0m\n\u001b[1;32m--> 512\u001b[1;33m             \u001b[0mfilename_or_obj\u001b[0m \u001b[1;33m=\u001b[0m \u001b[0mopen\u001b[0m\u001b[1;33m(\u001b[0m\u001b[0mfilename_or_obj\u001b[0m\u001b[1;33m,\u001b[0m \u001b[1;34m'wb'\u001b[0m\u001b[1;33m)\u001b[0m\u001b[1;33m\u001b[0m\u001b[0m\n\u001b[0m\u001b[0;32m    513\u001b[0m             \u001b[0mclose\u001b[0m \u001b[1;33m=\u001b[0m \u001b[1;32mTrue\u001b[0m\u001b[1;33m\u001b[0m\u001b[0m\n\u001b[0;32m    514\u001b[0m         \u001b[1;32melse\u001b[0m\u001b[1;33m:\u001b[0m\u001b[1;33m\u001b[0m\u001b[0m\n",
      "\u001b[1;31mFileNotFoundError\u001b[0m: [Errno 2] No such file or directory: 'image\\\\maxact.png'"
     ]
    },
    {
     "data": {
      "image/png": "[encoded data removed]",
      "text/plain": [
       "<matplotlib.figure.Figure at 0x1f579882dd8>"
      ]
     },
     "metadata": {},
     "output_type": "display_data"
    }
   ],
   "source": [
    "# load a model\n",
    "model = load_model('bettercnn.h5')\n",
    "input_img = model.input\n",
    "step=1\n",
    "\n",
    "# we're interested in maximising outputs of the 3rd layer:\n",
    "layer_output = model.layers[3].output\n",
    "for i in range(0,15):\n",
    "    # build a loss function that maximizes the activation\n",
    "    # of the nth filter of the layer considered\n",
    "    loss = K.mean(layer_output[:, :, :, i])\n",
    "    \n",
    "    # compute the gradient of the input picture wrt this loss\n",
    "    grads = K.gradients(loss, input_img)[0]\n",
    "    \n",
    "    # normalization trick: we normalize the gradient\n",
    "    grads /= (K.sqrt(K.mean(K.square(grads))) + 1e-5)\n",
    "    \n",
    "    # this function returns the loss and grads given the input picture\n",
    "    iterate = K.function([input_img], [loss, grads])\n",
    "    \n",
    "    # we start from a gray image with some noise\n",
    "    input_img_data = np.random.random((1, 28, 28, 1)) * 0.07 + 0.5\n",
    "    \n",
    "    # run gradient ascent for 50 steps\n",
    "    for j in range(50):\n",
    "        loss_value, grads_value = iterate([input_img_data])\n",
    "        input_img_data += grads_value * step\n",
    "    # plot the results\n",
    "    plt.subplot(4,4,i+1)\n",
    "    plt.imshow(input_img_data[0,:,:,0], cmap=plt.get_cmap('gray'))\n",
    "\n",
    "plt.savefig(\"image\\\\maxact.png\")"
   ]
  },
  {
   "cell_type": "markdown",
   "metadata": {},
   "source": [
    "## More advanced network topologies\n",
    "Recent network models, such as the deep residual network (ResNet) and GoogLeNet architectures, do not follow a\n",
    "straight path from input to output. Instead, these models incorporate branches and merges to create a computation\n",
    "graph. Branching and merging is easy to implement in Keras as show in the following code snippet:"
   ]
  },
  {
   "cell_type": "code",
   "execution_count": 27,
   "metadata": {
    "collapsed": true
   },
   "outputs": [],
   "source": [
    "from keras.layers import Input\n",
    "from keras.layers.merge import add\n",
    "from keras.models import Model\n",
    "def branch_model():\n",
    "    model = Sequential()\n",
    "    \n",
    "    x = Input(shape=(28, 28, 1))\n",
    "    \n",
    "    left = Convolution2D(16, (1, 1), padding='same')(x)\n",
    "    right = Convolution2D(16, (5, 5), padding='same', activation='relu')(x)\n",
    "    y = add([left, right])\n",
    "    block = Model(inputs=x, outputs=y)\n",
    "    \n",
    "    model.add(block)\n",
    "    model.add(MaxPooling2D(pool_size=(2, 2)))\n",
    "    model.add(Dropout(0.2))\n",
    "    model.add(Flatten())\n",
    "    model.add(Dense(128, activation='relu'))\n",
    "    model.add(Dense(num_classes, activation='softmax'))\n",
    "    \n",
    "    # Compile model\n",
    "    model.compile(loss='categorical_crossentropy', optimizer='adam', metrics=['accuracy'])\n",
    "    return model"
   ]
  },
  {
   "cell_type": "markdown",
   "metadata": {},
   "source": [
    "This defines a variant of our initial simple CNN model in which the input is split into two paths and then merged\n",
    "again; the left hand path consists of a 1x1 convolution layer, whilst the right-hand path has a 5x5 convolutional layer.\n",
    "The 1x1 convolutions will have the effect of increasing the number of bands in the input from 1 to 16 (with each band\n",
    "a [potentially different] scalar multiple of the input]. In this case the left and right branches are merged by summing\n",
    "them together (element-wise, layer by layer).\n",
    "\n",
    "    Exercise: Try running the above network model on the MNIST data. What accuracy do you achieve?"
   ]
  },
  {
   "cell_type": "code",
   "execution_count": 28,
   "metadata": {},
   "outputs": [
    {
     "name": "stdout",
     "output_type": "stream",
     "text": [
      "Train on 60000 samples, validate on 10000 samples\n",
      "Epoch 1/10\n",
      "3s - loss: 0.2945 - acc: 0.9131 - val_loss: 0.1154 - val_acc: 0.9649\n",
      "Epoch 2/10\n",
      "2s - loss: 0.0977 - acc: 0.9711 - val_loss: 0.0711 - val_acc: 0.9765\n",
      "Epoch 3/10\n",
      "2s - loss: 0.0664 - acc: 0.9802 - val_loss: 0.0567 - val_acc: 0.9813\n",
      "Epoch 4/10\n",
      "2s - loss: 0.0520 - acc: 0.9837 - val_loss: 0.0447 - val_acc: 0.9841\n",
      "Epoch 5/10\n",
      "2s - loss: 0.0416 - acc: 0.9873 - val_loss: 0.0389 - val_acc: 0.9867\n",
      "Epoch 6/10\n",
      "2s - loss: 0.0356 - acc: 0.9890 - val_loss: 0.0363 - val_acc: 0.9876\n",
      "Epoch 7/10\n",
      "2s - loss: 0.0279 - acc: 0.9913 - val_loss: 0.0338 - val_acc: 0.9883\n",
      "Epoch 8/10\n",
      "2s - loss: 0.0251 - acc: 0.9922 - val_loss: 0.0309 - val_acc: 0.9894\n",
      "Epoch 9/10\n",
      "2s - loss: 0.0207 - acc: 0.9934 - val_loss: 0.0349 - val_acc: 0.9883\n",
      "Epoch 10/10\n",
      "2s - loss: 0.0188 - acc: 0.9939 - val_loss: 0.0333 - val_acc: 0.9894\n",
      "Baseline Error: 1.06%\n"
     ]
    }
   ],
   "source": [
    "# build the model\n",
    "model = branch_model()\n",
    "# Fit the model\n",
    "model.fit(X_train, y_train, validation_data=(X_test, y_test), epochs=10, batch_size=200, verbose=2)\n",
    "# Final evaluation of the model\n",
    "scores = model.evaluate(X_test, y_test, verbose=0)\n",
    "print(\"Baseline Error: %.2f%%\" % (100-scores[1]*100))"
   ]
  },
  {
   "cell_type": "markdown",
   "metadata": {},
   "source": [
    "##  Going further\n",
    "None of the network topology we have experimented with thus far are optimised. Nor are they reproductions of\n",
    "network topologies from recent papers.\n",
    "\n",
    "    Exercise: There is a lot of opportunity for you to tune and improve upon these models. What is\n",
    "    the best error rate score you can achieve?"
   ]
  }
 ],
 "metadata": {
  "kernelspec": {
   "display_name": "Python 3",
   "language": "python",
   "name": "python3"
  },
  "language_info": {
   "codemirror_mode": {
    "name": "ipython",
    "version": 3
   },
   "file_extension": ".py",
   "mimetype": "text/x-python",
   "name": "python",
   "nbconvert_exporter": "python",
   "pygments_lexer": "ipython3",
   "version": "3.5.3"
  }
 },
 "nbformat": 4,
 "nbformat_minor": 2
}
